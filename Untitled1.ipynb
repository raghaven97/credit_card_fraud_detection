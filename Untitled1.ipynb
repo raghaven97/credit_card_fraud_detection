{
 "cells": [
  {
   "cell_type": "code",
   "execution_count": 1,
   "metadata": {},
   "outputs": [],
   "source": [
    "l1=['Bengaluru','Pune','Mumbai','Hyderabad']"
   ]
  },
  {
   "cell_type": "code",
   "execution_count": 10,
   "metadata": {},
   "outputs": [
    {
     "name": "stdout",
     "output_type": "stream",
     "text": [
      "None\n"
     ]
    }
   ],
   "source": [
    "print(l1.sort(reverse=False))"
   ]
  },
  {
   "cell_type": "code",
   "execution_count": 11,
   "metadata": {},
   "outputs": [
    {
     "data": {
      "text/plain": [
       "['Bengaluru', 'Hyderabad', 'Mumbai', 'Pune']"
      ]
     },
     "execution_count": 11,
     "metadata": {},
     "output_type": "execute_result"
    }
   ],
   "source": [
    "l1"
   ]
  },
  {
   "cell_type": "code",
   "execution_count": null,
   "metadata": {},
   "outputs": [],
   "source": [
    "l2=[2,4,6,8,10], n=2"
   ]
  },
  {
   "cell_type": "code",
   "execution_count": 21,
   "metadata": {},
   "outputs": [
    {
     "name": "stdout",
     "output_type": "stream",
     "text": [
      "[1, 2, 3, 4, 6, 7]\n",
      "6\n"
     ]
    }
   ],
   "source": [
    "# def secHighest(l,2):\n",
    "l1=[2,1,3,4,6,7]\n",
    "l1.sort()\n",
    "print(l1)\n",
    "print(l1[-2])\n",
    "    \n",
    "    "
   ]
  },
  {
   "cell_type": "code",
   "execution_count": 22,
   "metadata": {},
   "outputs": [],
   "source": [
    "def secHighest(l,n):\n",
    "    l1.sort()\n",
    "    print(l1[-n])"
   ]
  },
  {
   "cell_type": "code",
   "execution_count": 23,
   "metadata": {},
   "outputs": [
    {
     "name": "stdout",
     "output_type": "stream",
     "text": [
      "4\n"
     ]
    }
   ],
   "source": [
    "\n",
    "secHighest(l1,3)"
   ]
  },
  {
   "cell_type": "code",
   "execution_count": 36,
   "metadata": {},
   "outputs": [],
   "source": [
    "import pandas as pd\n",
    "import numpy as np\n",
    "\n",
    "\n",
    "data = {'Name':['DDD', 'BBB', 'CCC', 'AAA', 'DDD1', 'BBB1', 'CCC1', 'AAA1' ],\n",
    "'Age':[47, 24, 22, 32,40, 54, 62, 31 ],\n",
    "'Salary':[9000,4000,5000,8000,5000,8000,5500,4400],\n",
    "'Department':['IT', 'HR', 'FINANCE', 'MARKETING','IT', 'HR', 'FINANCE', 'MARKETING']}\n",
    "\n",
    "\n",
    "\n",
    "df = pd.DataFrame(data)"
   ]
  },
  {
   "cell_type": "code",
   "execution_count": 2,
   "metadata": {},
   "outputs": [
    {
     "data": {
      "text/html": [
       "<div>\n",
       "<style scoped>\n",
       "    .dataframe tbody tr th:only-of-type {\n",
       "        vertical-align: middle;\n",
       "    }\n",
       "\n",
       "    .dataframe tbody tr th {\n",
       "        vertical-align: top;\n",
       "    }\n",
       "\n",
       "    .dataframe thead th {\n",
       "        text-align: right;\n",
       "    }\n",
       "</style>\n",
       "<table border=\"1\" class=\"dataframe\">\n",
       "  <thead>\n",
       "    <tr style=\"text-align: right;\">\n",
       "      <th></th>\n",
       "      <th>Name</th>\n",
       "      <th>Age</th>\n",
       "      <th>Salary</th>\n",
       "      <th>Department</th>\n",
       "    </tr>\n",
       "  </thead>\n",
       "  <tbody>\n",
       "    <tr>\n",
       "      <th>0</th>\n",
       "      <td>DDD</td>\n",
       "      <td>47</td>\n",
       "      <td>9000</td>\n",
       "      <td>IT</td>\n",
       "    </tr>\n",
       "    <tr>\n",
       "      <th>1</th>\n",
       "      <td>BBB</td>\n",
       "      <td>24</td>\n",
       "      <td>4000</td>\n",
       "      <td>HR</td>\n",
       "    </tr>\n",
       "    <tr>\n",
       "      <th>2</th>\n",
       "      <td>CCC</td>\n",
       "      <td>22</td>\n",
       "      <td>5000</td>\n",
       "      <td>FINANCE</td>\n",
       "    </tr>\n",
       "    <tr>\n",
       "      <th>3</th>\n",
       "      <td>AAA</td>\n",
       "      <td>32</td>\n",
       "      <td>8000</td>\n",
       "      <td>MARKETING</td>\n",
       "    </tr>\n",
       "    <tr>\n",
       "      <th>4</th>\n",
       "      <td>DDD1</td>\n",
       "      <td>40</td>\n",
       "      <td>5000</td>\n",
       "      <td>IT</td>\n",
       "    </tr>\n",
       "    <tr>\n",
       "      <th>5</th>\n",
       "      <td>BBB1</td>\n",
       "      <td>54</td>\n",
       "      <td>8000</td>\n",
       "      <td>HR</td>\n",
       "    </tr>\n",
       "    <tr>\n",
       "      <th>6</th>\n",
       "      <td>CCC1</td>\n",
       "      <td>62</td>\n",
       "      <td>5500</td>\n",
       "      <td>FINANCE</td>\n",
       "    </tr>\n",
       "    <tr>\n",
       "      <th>7</th>\n",
       "      <td>AAA1</td>\n",
       "      <td>31</td>\n",
       "      <td>4400</td>\n",
       "      <td>MARKETING</td>\n",
       "    </tr>\n",
       "  </tbody>\n",
       "</table>\n",
       "</div>"
      ],
      "text/plain": [
       "   Name  Age  Salary Department\n",
       "0   DDD   47    9000         IT\n",
       "1   BBB   24    4000         HR\n",
       "2   CCC   22    5000    FINANCE\n",
       "3   AAA   32    8000  MARKETING\n",
       "4  DDD1   40    5000         IT\n",
       "5  BBB1   54    8000         HR\n",
       "6  CCC1   62    5500    FINANCE\n",
       "7  AAA1   31    4400  MARKETING"
      ]
     },
     "execution_count": 2,
     "metadata": {},
     "output_type": "execute_result"
    }
   ],
   "source": [
    "df"
   ]
  },
  {
   "cell_type": "code",
   "execution_count": 4,
   "metadata": {},
   "outputs": [
    {
     "data": {
      "text/html": [
       "<div>\n",
       "<style scoped>\n",
       "    .dataframe tbody tr th:only-of-type {\n",
       "        vertical-align: middle;\n",
       "    }\n",
       "\n",
       "    .dataframe tbody tr th {\n",
       "        vertical-align: top;\n",
       "    }\n",
       "\n",
       "    .dataframe thead th {\n",
       "        text-align: right;\n",
       "    }\n",
       "</style>\n",
       "<table border=\"1\" class=\"dataframe\">\n",
       "  <thead>\n",
       "    <tr style=\"text-align: right;\">\n",
       "      <th></th>\n",
       "      <th>Name</th>\n",
       "      <th>Age</th>\n",
       "      <th>Salary</th>\n",
       "      <th>Department</th>\n",
       "    </tr>\n",
       "  </thead>\n",
       "  <tbody>\n",
       "    <tr>\n",
       "      <th>5</th>\n",
       "      <td>BBB1</td>\n",
       "      <td>54</td>\n",
       "      <td>8000</td>\n",
       "      <td>HR</td>\n",
       "    </tr>\n",
       "  </tbody>\n",
       "</table>\n",
       "</div>"
      ],
      "text/plain": [
       "   Name  Age  Salary Department\n",
       "5  BBB1   54    8000         HR"
      ]
     },
     "execution_count": 4,
     "metadata": {},
     "output_type": "execute_result"
    }
   ],
   "source": [
    "df.loc[(df.Age > 40) & (df.Department=='HR')]"
   ]
  },
  {
   "cell_type": "code",
   "execution_count": 42,
   "metadata": {},
   "outputs": [
    {
     "data": {
      "text/plain": [
       "5    BBB1\n",
       "Name: Name, dtype: object"
      ]
     },
     "execution_count": 42,
     "metadata": {},
     "output_type": "execute_result"
    }
   ],
   "source": [
    "df.Name[(df.Age > 40) & (df.Department=='HR')]"
   ]
  },
  {
   "cell_type": "code",
   "execution_count": 47,
   "metadata": {},
   "outputs": [
    {
     "data": {
      "text/plain": [
       "pandas.core.series.Series"
      ]
     },
     "execution_count": 47,
     "metadata": {},
     "output_type": "execute_result"
    }
   ],
   "source": [
    "type(df.Age)"
   ]
  },
  {
   "cell_type": "code",
   "execution_count": 50,
   "metadata": {},
   "outputs": [],
   "source": [
    "df['index'] = (df.Salary/df.Age**2)"
   ]
  },
  {
   "cell_type": "code",
   "execution_count": 51,
   "metadata": {},
   "outputs": [
    {
     "data": {
      "text/html": [
       "<div>\n",
       "<style scoped>\n",
       "    .dataframe tbody tr th:only-of-type {\n",
       "        vertical-align: middle;\n",
       "    }\n",
       "\n",
       "    .dataframe tbody tr th {\n",
       "        vertical-align: top;\n",
       "    }\n",
       "\n",
       "    .dataframe thead th {\n",
       "        text-align: right;\n",
       "    }\n",
       "</style>\n",
       "<table border=\"1\" class=\"dataframe\">\n",
       "  <thead>\n",
       "    <tr style=\"text-align: right;\">\n",
       "      <th></th>\n",
       "      <th>Name</th>\n",
       "      <th>Age</th>\n",
       "      <th>Salary</th>\n",
       "      <th>Department</th>\n",
       "      <th>index</th>\n",
       "    </tr>\n",
       "  </thead>\n",
       "  <tbody>\n",
       "    <tr>\n",
       "      <th>0</th>\n",
       "      <td>DDD</td>\n",
       "      <td>47</td>\n",
       "      <td>9000</td>\n",
       "      <td>IT</td>\n",
       "      <td>4.074242</td>\n",
       "    </tr>\n",
       "    <tr>\n",
       "      <th>1</th>\n",
       "      <td>BBB</td>\n",
       "      <td>24</td>\n",
       "      <td>4000</td>\n",
       "      <td>HR</td>\n",
       "      <td>6.944444</td>\n",
       "    </tr>\n",
       "    <tr>\n",
       "      <th>2</th>\n",
       "      <td>CCC</td>\n",
       "      <td>22</td>\n",
       "      <td>5000</td>\n",
       "      <td>FINANCE</td>\n",
       "      <td>10.330579</td>\n",
       "    </tr>\n",
       "    <tr>\n",
       "      <th>3</th>\n",
       "      <td>AAA</td>\n",
       "      <td>32</td>\n",
       "      <td>8000</td>\n",
       "      <td>MARKETING</td>\n",
       "      <td>7.812500</td>\n",
       "    </tr>\n",
       "    <tr>\n",
       "      <th>4</th>\n",
       "      <td>DDD1</td>\n",
       "      <td>40</td>\n",
       "      <td>5000</td>\n",
       "      <td>IT</td>\n",
       "      <td>3.125000</td>\n",
       "    </tr>\n",
       "    <tr>\n",
       "      <th>5</th>\n",
       "      <td>BBB1</td>\n",
       "      <td>54</td>\n",
       "      <td>8000</td>\n",
       "      <td>HR</td>\n",
       "      <td>2.743484</td>\n",
       "    </tr>\n",
       "    <tr>\n",
       "      <th>6</th>\n",
       "      <td>CCC1</td>\n",
       "      <td>62</td>\n",
       "      <td>5500</td>\n",
       "      <td>FINANCE</td>\n",
       "      <td>1.430801</td>\n",
       "    </tr>\n",
       "    <tr>\n",
       "      <th>7</th>\n",
       "      <td>AAA1</td>\n",
       "      <td>31</td>\n",
       "      <td>4400</td>\n",
       "      <td>MARKETING</td>\n",
       "      <td>4.578564</td>\n",
       "    </tr>\n",
       "  </tbody>\n",
       "</table>\n",
       "</div>"
      ],
      "text/plain": [
       "   Name  Age  Salary Department      index\n",
       "0   DDD   47    9000         IT   4.074242\n",
       "1   BBB   24    4000         HR   6.944444\n",
       "2   CCC   22    5000    FINANCE  10.330579\n",
       "3   AAA   32    8000  MARKETING   7.812500\n",
       "4  DDD1   40    5000         IT   3.125000\n",
       "5  BBB1   54    8000         HR   2.743484\n",
       "6  CCC1   62    5500    FINANCE   1.430801\n",
       "7  AAA1   31    4400  MARKETING   4.578564"
      ]
     },
     "execution_count": 51,
     "metadata": {},
     "output_type": "execute_result"
    }
   ],
   "source": [
    "df"
   ]
  },
  {
   "cell_type": "code",
   "execution_count": null,
   "metadata": {},
   "outputs": [],
   "source": [
    "df['flag']= lambda df.Age > 30 n"
   ]
  },
  {
   "cell_type": "code",
   "execution_count": 8,
   "metadata": {},
   "outputs": [],
   "source": [
    "df['flag'] = lambda x:(1 if x[df.Age]>30 else 0)"
   ]
  },
  {
   "cell_type": "code",
   "execution_count": 9,
   "metadata": {},
   "outputs": [
    {
     "data": {
      "text/html": [
       "<div>\n",
       "<style scoped>\n",
       "    .dataframe tbody tr th:only-of-type {\n",
       "        vertical-align: middle;\n",
       "    }\n",
       "\n",
       "    .dataframe tbody tr th {\n",
       "        vertical-align: top;\n",
       "    }\n",
       "\n",
       "    .dataframe thead th {\n",
       "        text-align: right;\n",
       "    }\n",
       "</style>\n",
       "<table border=\"1\" class=\"dataframe\">\n",
       "  <thead>\n",
       "    <tr style=\"text-align: right;\">\n",
       "      <th></th>\n",
       "      <th>Name</th>\n",
       "      <th>Age</th>\n",
       "      <th>Salary</th>\n",
       "      <th>Department</th>\n",
       "      <th>flag</th>\n",
       "    </tr>\n",
       "  </thead>\n",
       "  <tbody>\n",
       "    <tr>\n",
       "      <th>0</th>\n",
       "      <td>DDD</td>\n",
       "      <td>47</td>\n",
       "      <td>9000</td>\n",
       "      <td>IT</td>\n",
       "      <td>&lt;function &lt;lambda&gt; at 0x0000026F7E946550&gt;</td>\n",
       "    </tr>\n",
       "    <tr>\n",
       "      <th>1</th>\n",
       "      <td>BBB</td>\n",
       "      <td>24</td>\n",
       "      <td>4000</td>\n",
       "      <td>HR</td>\n",
       "      <td>&lt;function &lt;lambda&gt; at 0x0000026F7E946550&gt;</td>\n",
       "    </tr>\n",
       "    <tr>\n",
       "      <th>2</th>\n",
       "      <td>CCC</td>\n",
       "      <td>22</td>\n",
       "      <td>5000</td>\n",
       "      <td>FINANCE</td>\n",
       "      <td>&lt;function &lt;lambda&gt; at 0x0000026F7E946550&gt;</td>\n",
       "    </tr>\n",
       "    <tr>\n",
       "      <th>3</th>\n",
       "      <td>AAA</td>\n",
       "      <td>32</td>\n",
       "      <td>8000</td>\n",
       "      <td>MARKETING</td>\n",
       "      <td>&lt;function &lt;lambda&gt; at 0x0000026F7E946550&gt;</td>\n",
       "    </tr>\n",
       "    <tr>\n",
       "      <th>4</th>\n",
       "      <td>DDD1</td>\n",
       "      <td>40</td>\n",
       "      <td>5000</td>\n",
       "      <td>IT</td>\n",
       "      <td>&lt;function &lt;lambda&gt; at 0x0000026F7E946550&gt;</td>\n",
       "    </tr>\n",
       "    <tr>\n",
       "      <th>5</th>\n",
       "      <td>BBB1</td>\n",
       "      <td>54</td>\n",
       "      <td>8000</td>\n",
       "      <td>HR</td>\n",
       "      <td>&lt;function &lt;lambda&gt; at 0x0000026F7E946550&gt;</td>\n",
       "    </tr>\n",
       "    <tr>\n",
       "      <th>6</th>\n",
       "      <td>CCC1</td>\n",
       "      <td>62</td>\n",
       "      <td>5500</td>\n",
       "      <td>FINANCE</td>\n",
       "      <td>&lt;function &lt;lambda&gt; at 0x0000026F7E946550&gt;</td>\n",
       "    </tr>\n",
       "    <tr>\n",
       "      <th>7</th>\n",
       "      <td>AAA1</td>\n",
       "      <td>31</td>\n",
       "      <td>4400</td>\n",
       "      <td>MARKETING</td>\n",
       "      <td>&lt;function &lt;lambda&gt; at 0x0000026F7E946550&gt;</td>\n",
       "    </tr>\n",
       "  </tbody>\n",
       "</table>\n",
       "</div>"
      ],
      "text/plain": [
       "   Name  Age  Salary Department                                       flag\n",
       "0   DDD   47    9000         IT  <function <lambda> at 0x0000026F7E946550>\n",
       "1   BBB   24    4000         HR  <function <lambda> at 0x0000026F7E946550>\n",
       "2   CCC   22    5000    FINANCE  <function <lambda> at 0x0000026F7E946550>\n",
       "3   AAA   32    8000  MARKETING  <function <lambda> at 0x0000026F7E946550>\n",
       "4  DDD1   40    5000         IT  <function <lambda> at 0x0000026F7E946550>\n",
       "5  BBB1   54    8000         HR  <function <lambda> at 0x0000026F7E946550>\n",
       "6  CCC1   62    5500    FINANCE  <function <lambda> at 0x0000026F7E946550>\n",
       "7  AAA1   31    4400  MARKETING  <function <lambda> at 0x0000026F7E946550>"
      ]
     },
     "execution_count": 9,
     "metadata": {},
     "output_type": "execute_result"
    }
   ],
   "source": [
    "df"
   ]
  },
  {
   "cell_type": "code",
   "execution_count": 24,
   "metadata": {},
   "outputs": [],
   "source": [
    "df = df.assign(Percentage = lambda x: (x['Age'] /500 * 100) )"
   ]
  },
  {
   "cell_type": "code",
   "execution_count": 25,
   "metadata": {},
   "outputs": [
    {
     "data": {
      "text/html": [
       "<div>\n",
       "<style scoped>\n",
       "    .dataframe tbody tr th:only-of-type {\n",
       "        vertical-align: middle;\n",
       "    }\n",
       "\n",
       "    .dataframe tbody tr th {\n",
       "        vertical-align: top;\n",
       "    }\n",
       "\n",
       "    .dataframe thead th {\n",
       "        text-align: right;\n",
       "    }\n",
       "</style>\n",
       "<table border=\"1\" class=\"dataframe\">\n",
       "  <thead>\n",
       "    <tr style=\"text-align: right;\">\n",
       "      <th></th>\n",
       "      <th>Name</th>\n",
       "      <th>Age</th>\n",
       "      <th>Salary</th>\n",
       "      <th>Department</th>\n",
       "      <th>flag</th>\n",
       "      <th>Percentage</th>\n",
       "    </tr>\n",
       "  </thead>\n",
       "  <tbody>\n",
       "    <tr>\n",
       "      <th>0</th>\n",
       "      <td>DDD</td>\n",
       "      <td>47</td>\n",
       "      <td>9000</td>\n",
       "      <td>IT</td>\n",
       "      <td>&lt;function &lt;lambda&gt; at 0x0000026F7E946550&gt;</td>\n",
       "      <td>9.4</td>\n",
       "    </tr>\n",
       "    <tr>\n",
       "      <th>1</th>\n",
       "      <td>BBB</td>\n",
       "      <td>24</td>\n",
       "      <td>4000</td>\n",
       "      <td>HR</td>\n",
       "      <td>&lt;function &lt;lambda&gt; at 0x0000026F7E946550&gt;</td>\n",
       "      <td>4.8</td>\n",
       "    </tr>\n",
       "    <tr>\n",
       "      <th>2</th>\n",
       "      <td>CCC</td>\n",
       "      <td>22</td>\n",
       "      <td>5000</td>\n",
       "      <td>FINANCE</td>\n",
       "      <td>&lt;function &lt;lambda&gt; at 0x0000026F7E946550&gt;</td>\n",
       "      <td>4.4</td>\n",
       "    </tr>\n",
       "    <tr>\n",
       "      <th>3</th>\n",
       "      <td>AAA</td>\n",
       "      <td>32</td>\n",
       "      <td>8000</td>\n",
       "      <td>MARKETING</td>\n",
       "      <td>&lt;function &lt;lambda&gt; at 0x0000026F7E946550&gt;</td>\n",
       "      <td>6.4</td>\n",
       "    </tr>\n",
       "    <tr>\n",
       "      <th>4</th>\n",
       "      <td>DDD1</td>\n",
       "      <td>40</td>\n",
       "      <td>5000</td>\n",
       "      <td>IT</td>\n",
       "      <td>&lt;function &lt;lambda&gt; at 0x0000026F7E946550&gt;</td>\n",
       "      <td>8.0</td>\n",
       "    </tr>\n",
       "    <tr>\n",
       "      <th>5</th>\n",
       "      <td>BBB1</td>\n",
       "      <td>54</td>\n",
       "      <td>8000</td>\n",
       "      <td>HR</td>\n",
       "      <td>&lt;function &lt;lambda&gt; at 0x0000026F7E946550&gt;</td>\n",
       "      <td>10.8</td>\n",
       "    </tr>\n",
       "    <tr>\n",
       "      <th>6</th>\n",
       "      <td>CCC1</td>\n",
       "      <td>62</td>\n",
       "      <td>5500</td>\n",
       "      <td>FINANCE</td>\n",
       "      <td>&lt;function &lt;lambda&gt; at 0x0000026F7E946550&gt;</td>\n",
       "      <td>12.4</td>\n",
       "    </tr>\n",
       "    <tr>\n",
       "      <th>7</th>\n",
       "      <td>AAA1</td>\n",
       "      <td>31</td>\n",
       "      <td>4400</td>\n",
       "      <td>MARKETING</td>\n",
       "      <td>&lt;function &lt;lambda&gt; at 0x0000026F7E946550&gt;</td>\n",
       "      <td>6.2</td>\n",
       "    </tr>\n",
       "  </tbody>\n",
       "</table>\n",
       "</div>"
      ],
      "text/plain": [
       "   Name  Age  Salary Department                                       flag  \\\n",
       "0   DDD   47    9000         IT  <function <lambda> at 0x0000026F7E946550>   \n",
       "1   BBB   24    4000         HR  <function <lambda> at 0x0000026F7E946550>   \n",
       "2   CCC   22    5000    FINANCE  <function <lambda> at 0x0000026F7E946550>   \n",
       "3   AAA   32    8000  MARKETING  <function <lambda> at 0x0000026F7E946550>   \n",
       "4  DDD1   40    5000         IT  <function <lambda> at 0x0000026F7E946550>   \n",
       "5  BBB1   54    8000         HR  <function <lambda> at 0x0000026F7E946550>   \n",
       "6  CCC1   62    5500    FINANCE  <function <lambda> at 0x0000026F7E946550>   \n",
       "7  AAA1   31    4400  MARKETING  <function <lambda> at 0x0000026F7E946550>   \n",
       "\n",
       "   Percentage  \n",
       "0         9.4  \n",
       "1         4.8  \n",
       "2         4.4  \n",
       "3         6.4  \n",
       "4         8.0  \n",
       "5        10.8  \n",
       "6        12.4  \n",
       "7         6.2  "
      ]
     },
     "execution_count": 25,
     "metadata": {},
     "output_type": "execute_result"
    }
   ],
   "source": [
    "df"
   ]
  },
  {
   "cell_type": "code",
   "execution_count": 37,
   "metadata": {},
   "outputs": [],
   "source": [
    "df['flag1'] = np.where(df['Age']>30, 1, 0)"
   ]
  },
  {
   "cell_type": "code",
   "execution_count": 38,
   "metadata": {},
   "outputs": [
    {
     "data": {
      "text/html": [
       "<div>\n",
       "<style scoped>\n",
       "    .dataframe tbody tr th:only-of-type {\n",
       "        vertical-align: middle;\n",
       "    }\n",
       "\n",
       "    .dataframe tbody tr th {\n",
       "        vertical-align: top;\n",
       "    }\n",
       "\n",
       "    .dataframe thead th {\n",
       "        text-align: right;\n",
       "    }\n",
       "</style>\n",
       "<table border=\"1\" class=\"dataframe\">\n",
       "  <thead>\n",
       "    <tr style=\"text-align: right;\">\n",
       "      <th></th>\n",
       "      <th>Name</th>\n",
       "      <th>Age</th>\n",
       "      <th>Salary</th>\n",
       "      <th>Department</th>\n",
       "      <th>flag1</th>\n",
       "    </tr>\n",
       "  </thead>\n",
       "  <tbody>\n",
       "    <tr>\n",
       "      <th>0</th>\n",
       "      <td>DDD</td>\n",
       "      <td>47</td>\n",
       "      <td>9000</td>\n",
       "      <td>IT</td>\n",
       "      <td>1</td>\n",
       "    </tr>\n",
       "    <tr>\n",
       "      <th>1</th>\n",
       "      <td>BBB</td>\n",
       "      <td>24</td>\n",
       "      <td>4000</td>\n",
       "      <td>HR</td>\n",
       "      <td>0</td>\n",
       "    </tr>\n",
       "    <tr>\n",
       "      <th>2</th>\n",
       "      <td>CCC</td>\n",
       "      <td>22</td>\n",
       "      <td>5000</td>\n",
       "      <td>FINANCE</td>\n",
       "      <td>0</td>\n",
       "    </tr>\n",
       "    <tr>\n",
       "      <th>3</th>\n",
       "      <td>AAA</td>\n",
       "      <td>32</td>\n",
       "      <td>8000</td>\n",
       "      <td>MARKETING</td>\n",
       "      <td>1</td>\n",
       "    </tr>\n",
       "    <tr>\n",
       "      <th>4</th>\n",
       "      <td>DDD1</td>\n",
       "      <td>40</td>\n",
       "      <td>5000</td>\n",
       "      <td>IT</td>\n",
       "      <td>1</td>\n",
       "    </tr>\n",
       "    <tr>\n",
       "      <th>5</th>\n",
       "      <td>BBB1</td>\n",
       "      <td>54</td>\n",
       "      <td>8000</td>\n",
       "      <td>HR</td>\n",
       "      <td>1</td>\n",
       "    </tr>\n",
       "    <tr>\n",
       "      <th>6</th>\n",
       "      <td>CCC1</td>\n",
       "      <td>62</td>\n",
       "      <td>5500</td>\n",
       "      <td>FINANCE</td>\n",
       "      <td>1</td>\n",
       "    </tr>\n",
       "    <tr>\n",
       "      <th>7</th>\n",
       "      <td>AAA1</td>\n",
       "      <td>31</td>\n",
       "      <td>4400</td>\n",
       "      <td>MARKETING</td>\n",
       "      <td>1</td>\n",
       "    </tr>\n",
       "  </tbody>\n",
       "</table>\n",
       "</div>"
      ],
      "text/plain": [
       "   Name  Age  Salary Department  flag1\n",
       "0   DDD   47    9000         IT      1\n",
       "1   BBB   24    4000         HR      0\n",
       "2   CCC   22    5000    FINANCE      0\n",
       "3   AAA   32    8000  MARKETING      1\n",
       "4  DDD1   40    5000         IT      1\n",
       "5  BBB1   54    8000         HR      1\n",
       "6  CCC1   62    5500    FINANCE      1\n",
       "7  AAA1   31    4400  MARKETING      1"
      ]
     },
     "execution_count": 38,
     "metadata": {},
     "output_type": "execute_result"
    }
   ],
   "source": [
    "df"
   ]
  },
  {
   "cell_type": "code",
   "execution_count": 26,
   "metadata": {},
   "outputs": [
    {
     "name": "stdout",
     "output_type": "stream",
     "text": [
      "    PR\n",
      "0   10\n",
      "1  100\n",
      "2   40\n"
     ]
    }
   ],
   "source": [
    "sample = pd.DataFrame({'PR':[10,100,40] })\n",
    "print (sample)"
   ]
  },
  {
   "cell_type": "code",
   "execution_count": 30,
   "metadata": {},
   "outputs": [],
   "source": [
    "sample['PR1'] = (lambda x: 1 if x['PR']>90 else 0)"
   ]
  },
  {
   "cell_type": "code",
   "execution_count": 31,
   "metadata": {},
   "outputs": [
    {
     "data": {
      "text/html": [
       "<div>\n",
       "<style scoped>\n",
       "    .dataframe tbody tr th:only-of-type {\n",
       "        vertical-align: middle;\n",
       "    }\n",
       "\n",
       "    .dataframe tbody tr th {\n",
       "        vertical-align: top;\n",
       "    }\n",
       "\n",
       "    .dataframe thead th {\n",
       "        text-align: right;\n",
       "    }\n",
       "</style>\n",
       "<table border=\"1\" class=\"dataframe\">\n",
       "  <thead>\n",
       "    <tr style=\"text-align: right;\">\n",
       "      <th></th>\n",
       "      <th>PR</th>\n",
       "      <th>PR1</th>\n",
       "    </tr>\n",
       "  </thead>\n",
       "  <tbody>\n",
       "    <tr>\n",
       "      <th>0</th>\n",
       "      <td>10</td>\n",
       "      <td>&lt;function &lt;lambda&gt; at 0x0000026F7E8ED700&gt;</td>\n",
       "    </tr>\n",
       "    <tr>\n",
       "      <th>1</th>\n",
       "      <td>100</td>\n",
       "      <td>&lt;function &lt;lambda&gt; at 0x0000026F7E8ED700&gt;</td>\n",
       "    </tr>\n",
       "    <tr>\n",
       "      <th>2</th>\n",
       "      <td>40</td>\n",
       "      <td>&lt;function &lt;lambda&gt; at 0x0000026F7E8ED700&gt;</td>\n",
       "    </tr>\n",
       "  </tbody>\n",
       "</table>\n",
       "</div>"
      ],
      "text/plain": [
       "    PR                                        PR1\n",
       "0   10  <function <lambda> at 0x0000026F7E8ED700>\n",
       "1  100  <function <lambda> at 0x0000026F7E8ED700>\n",
       "2   40  <function <lambda> at 0x0000026F7E8ED700>"
      ]
     },
     "execution_count": 31,
     "metadata": {},
     "output_type": "execute_result"
    }
   ],
   "source": [
    "sample"
   ]
  },
  {
   "cell_type": "code",
   "execution_count": 47,
   "metadata": {},
   "outputs": [],
   "source": [
    "# sample['PR1'] = sample['PR1'].apply(lambda x: 'NaN' if x['PR'] < 90 else x) "
   ]
  },
  {
   "cell_type": "code",
   "execution_count": 33,
   "metadata": {},
   "outputs": [
    {
     "data": {
      "text/html": [
       "<div>\n",
       "<style scoped>\n",
       "    .dataframe tbody tr th:only-of-type {\n",
       "        vertical-align: middle;\n",
       "    }\n",
       "\n",
       "    .dataframe tbody tr th {\n",
       "        vertical-align: top;\n",
       "    }\n",
       "\n",
       "    .dataframe thead th {\n",
       "        text-align: right;\n",
       "    }\n",
       "</style>\n",
       "<table border=\"1\" class=\"dataframe\">\n",
       "  <thead>\n",
       "    <tr style=\"text-align: right;\">\n",
       "      <th></th>\n",
       "      <th>PR</th>\n",
       "      <th>PR1</th>\n",
       "    </tr>\n",
       "  </thead>\n",
       "  <tbody>\n",
       "    <tr>\n",
       "      <th>0</th>\n",
       "      <td>NaN</td>\n",
       "      <td>&lt;function &lt;lambda&gt; at 0x0000026F7E8ED700&gt;</td>\n",
       "    </tr>\n",
       "    <tr>\n",
       "      <th>1</th>\n",
       "      <td>100</td>\n",
       "      <td>&lt;function &lt;lambda&gt; at 0x0000026F7E8ED700&gt;</td>\n",
       "    </tr>\n",
       "    <tr>\n",
       "      <th>2</th>\n",
       "      <td>NaN</td>\n",
       "      <td>&lt;function &lt;lambda&gt; at 0x0000026F7E8ED700&gt;</td>\n",
       "    </tr>\n",
       "  </tbody>\n",
       "</table>\n",
       "</div>"
      ],
      "text/plain": [
       "    PR                                        PR1\n",
       "0  NaN  <function <lambda> at 0x0000026F7E8ED700>\n",
       "1  100  <function <lambda> at 0x0000026F7E8ED700>\n",
       "2  NaN  <function <lambda> at 0x0000026F7E8ED700>"
      ]
     },
     "execution_count": 33,
     "metadata": {},
     "output_type": "execute_result"
    }
   ],
   "source": [
    "sample"
   ]
  },
  {
   "cell_type": "code",
   "execution_count": 39,
   "metadata": {},
   "outputs": [],
   "source": [
    "df['flag2'] = [1 if x>30 else 0 for x in df['Age']]"
   ]
  },
  {
   "cell_type": "code",
   "execution_count": 40,
   "metadata": {},
   "outputs": [
    {
     "data": {
      "text/html": [
       "<div>\n",
       "<style scoped>\n",
       "    .dataframe tbody tr th:only-of-type {\n",
       "        vertical-align: middle;\n",
       "    }\n",
       "\n",
       "    .dataframe tbody tr th {\n",
       "        vertical-align: top;\n",
       "    }\n",
       "\n",
       "    .dataframe thead th {\n",
       "        text-align: right;\n",
       "    }\n",
       "</style>\n",
       "<table border=\"1\" class=\"dataframe\">\n",
       "  <thead>\n",
       "    <tr style=\"text-align: right;\">\n",
       "      <th></th>\n",
       "      <th>Name</th>\n",
       "      <th>Age</th>\n",
       "      <th>Salary</th>\n",
       "      <th>Department</th>\n",
       "      <th>flag1</th>\n",
       "      <th>flag2</th>\n",
       "    </tr>\n",
       "  </thead>\n",
       "  <tbody>\n",
       "    <tr>\n",
       "      <th>0</th>\n",
       "      <td>DDD</td>\n",
       "      <td>47</td>\n",
       "      <td>9000</td>\n",
       "      <td>IT</td>\n",
       "      <td>1</td>\n",
       "      <td>1</td>\n",
       "    </tr>\n",
       "    <tr>\n",
       "      <th>1</th>\n",
       "      <td>BBB</td>\n",
       "      <td>24</td>\n",
       "      <td>4000</td>\n",
       "      <td>HR</td>\n",
       "      <td>0</td>\n",
       "      <td>0</td>\n",
       "    </tr>\n",
       "    <tr>\n",
       "      <th>2</th>\n",
       "      <td>CCC</td>\n",
       "      <td>22</td>\n",
       "      <td>5000</td>\n",
       "      <td>FINANCE</td>\n",
       "      <td>0</td>\n",
       "      <td>0</td>\n",
       "    </tr>\n",
       "    <tr>\n",
       "      <th>3</th>\n",
       "      <td>AAA</td>\n",
       "      <td>32</td>\n",
       "      <td>8000</td>\n",
       "      <td>MARKETING</td>\n",
       "      <td>1</td>\n",
       "      <td>1</td>\n",
       "    </tr>\n",
       "    <tr>\n",
       "      <th>4</th>\n",
       "      <td>DDD1</td>\n",
       "      <td>40</td>\n",
       "      <td>5000</td>\n",
       "      <td>IT</td>\n",
       "      <td>1</td>\n",
       "      <td>1</td>\n",
       "    </tr>\n",
       "    <tr>\n",
       "      <th>5</th>\n",
       "      <td>BBB1</td>\n",
       "      <td>54</td>\n",
       "      <td>8000</td>\n",
       "      <td>HR</td>\n",
       "      <td>1</td>\n",
       "      <td>1</td>\n",
       "    </tr>\n",
       "    <tr>\n",
       "      <th>6</th>\n",
       "      <td>CCC1</td>\n",
       "      <td>62</td>\n",
       "      <td>5500</td>\n",
       "      <td>FINANCE</td>\n",
       "      <td>1</td>\n",
       "      <td>1</td>\n",
       "    </tr>\n",
       "    <tr>\n",
       "      <th>7</th>\n",
       "      <td>AAA1</td>\n",
       "      <td>31</td>\n",
       "      <td>4400</td>\n",
       "      <td>MARKETING</td>\n",
       "      <td>1</td>\n",
       "      <td>1</td>\n",
       "    </tr>\n",
       "  </tbody>\n",
       "</table>\n",
       "</div>"
      ],
      "text/plain": [
       "   Name  Age  Salary Department  flag1  flag2\n",
       "0   DDD   47    9000         IT      1      1\n",
       "1   BBB   24    4000         HR      0      0\n",
       "2   CCC   22    5000    FINANCE      0      0\n",
       "3   AAA   32    8000  MARKETING      1      1\n",
       "4  DDD1   40    5000         IT      1      1\n",
       "5  BBB1   54    8000         HR      1      1\n",
       "6  CCC1   62    5500    FINANCE      1      1\n",
       "7  AAA1   31    4400  MARKETING      1      1"
      ]
     },
     "execution_count": 40,
     "metadata": {},
     "output_type": "execute_result"
    }
   ],
   "source": [
    "df"
   ]
  },
  {
   "cell_type": "code",
   "execution_count": 45,
   "metadata": {},
   "outputs": [],
   "source": [
    "for a in df['Age']:\n",
    "    if a > 30:\n",
    "        df['flag3']= 1\n",
    "    else:\n",
    "        df['flag3']= 0"
   ]
  },
  {
   "cell_type": "code",
   "execution_count": 46,
   "metadata": {},
   "outputs": [
    {
     "data": {
      "text/html": [
       "<div>\n",
       "<style scoped>\n",
       "    .dataframe tbody tr th:only-of-type {\n",
       "        vertical-align: middle;\n",
       "    }\n",
       "\n",
       "    .dataframe tbody tr th {\n",
       "        vertical-align: top;\n",
       "    }\n",
       "\n",
       "    .dataframe thead th {\n",
       "        text-align: right;\n",
       "    }\n",
       "</style>\n",
       "<table border=\"1\" class=\"dataframe\">\n",
       "  <thead>\n",
       "    <tr style=\"text-align: right;\">\n",
       "      <th></th>\n",
       "      <th>Name</th>\n",
       "      <th>Age</th>\n",
       "      <th>Salary</th>\n",
       "      <th>Department</th>\n",
       "      <th>flag1</th>\n",
       "      <th>flag2</th>\n",
       "      <th>flag3</th>\n",
       "    </tr>\n",
       "  </thead>\n",
       "  <tbody>\n",
       "    <tr>\n",
       "      <th>0</th>\n",
       "      <td>DDD</td>\n",
       "      <td>47</td>\n",
       "      <td>9000</td>\n",
       "      <td>IT</td>\n",
       "      <td>1</td>\n",
       "      <td>1</td>\n",
       "      <td>0</td>\n",
       "    </tr>\n",
       "    <tr>\n",
       "      <th>1</th>\n",
       "      <td>BBB</td>\n",
       "      <td>24</td>\n",
       "      <td>4000</td>\n",
       "      <td>HR</td>\n",
       "      <td>0</td>\n",
       "      <td>0</td>\n",
       "      <td>0</td>\n",
       "    </tr>\n",
       "    <tr>\n",
       "      <th>2</th>\n",
       "      <td>CCC</td>\n",
       "      <td>22</td>\n",
       "      <td>5000</td>\n",
       "      <td>FINANCE</td>\n",
       "      <td>0</td>\n",
       "      <td>0</td>\n",
       "      <td>0</td>\n",
       "    </tr>\n",
       "    <tr>\n",
       "      <th>3</th>\n",
       "      <td>AAA</td>\n",
       "      <td>32</td>\n",
       "      <td>8000</td>\n",
       "      <td>MARKETING</td>\n",
       "      <td>1</td>\n",
       "      <td>1</td>\n",
       "      <td>0</td>\n",
       "    </tr>\n",
       "    <tr>\n",
       "      <th>4</th>\n",
       "      <td>DDD1</td>\n",
       "      <td>40</td>\n",
       "      <td>5000</td>\n",
       "      <td>IT</td>\n",
       "      <td>1</td>\n",
       "      <td>1</td>\n",
       "      <td>0</td>\n",
       "    </tr>\n",
       "    <tr>\n",
       "      <th>5</th>\n",
       "      <td>BBB1</td>\n",
       "      <td>54</td>\n",
       "      <td>8000</td>\n",
       "      <td>HR</td>\n",
       "      <td>1</td>\n",
       "      <td>1</td>\n",
       "      <td>0</td>\n",
       "    </tr>\n",
       "    <tr>\n",
       "      <th>6</th>\n",
       "      <td>CCC1</td>\n",
       "      <td>62</td>\n",
       "      <td>5500</td>\n",
       "      <td>FINANCE</td>\n",
       "      <td>1</td>\n",
       "      <td>1</td>\n",
       "      <td>0</td>\n",
       "    </tr>\n",
       "    <tr>\n",
       "      <th>7</th>\n",
       "      <td>AAA1</td>\n",
       "      <td>31</td>\n",
       "      <td>4400</td>\n",
       "      <td>MARKETING</td>\n",
       "      <td>1</td>\n",
       "      <td>1</td>\n",
       "      <td>0</td>\n",
       "    </tr>\n",
       "  </tbody>\n",
       "</table>\n",
       "</div>"
      ],
      "text/plain": [
       "   Name  Age  Salary Department  flag1  flag2  flag3\n",
       "0   DDD   47    9000         IT      1      1      0\n",
       "1   BBB   24    4000         HR      0      0      0\n",
       "2   CCC   22    5000    FINANCE      0      0      0\n",
       "3   AAA   32    8000  MARKETING      1      1      0\n",
       "4  DDD1   40    5000         IT      1      1      0\n",
       "5  BBB1   54    8000         HR      1      1      0\n",
       "6  CCC1   62    5500    FINANCE      1      1      0\n",
       "7  AAA1   31    4400  MARKETING      1      1      0"
      ]
     },
     "execution_count": 46,
     "metadata": {},
     "output_type": "execute_result"
    }
   ],
   "source": [
    "df"
   ]
  },
  {
   "cell_type": "code",
   "execution_count": 48,
   "metadata": {},
   "outputs": [],
   "source": [
    "import numpy as np\n",
    "import matplotlib.pyplot as plt\n",
    "import seaborn as sns"
   ]
  },
  {
   "cell_type": "code",
   "execution_count": 53,
   "metadata": {},
   "outputs": [
    {
     "data": {
      "text/plain": [
       "<matplotlib.collections.PathCollection at 0x26f0162c070>"
      ]
     },
     "execution_count": 53,
     "metadata": {},
     "output_type": "execute_result"
    },
    {
     "data": {
      "image/png": "[encoded data removed]",
      "text/plain": [
       "<Figure size 432x288 with 1 Axes>"
      ]
     },
     "metadata": {
      "needs_background": "light"
     },
     "output_type": "display_data"
    }
   ],
   "source": [
    "\n",
    "x_arr = np.array([0,20])\n",
    "y_arr = np.array([0,250])\n",
    "\n",
    "plt.plot(x_arr,y_arr)\n",
    "plt.scatter(x_arr,y_arr)"
   ]
  },
  {
   "cell_type": "code",
   "execution_count": 59,
   "metadata": {},
   "outputs": [
    {
     "data": {
      "text/plain": [
       "<matplotlib.collections.PathCollection at 0x26f01d1c6d0>"
      ]
     },
     "execution_count": 59,
     "metadata": {},
     "output_type": "execute_result"
    },
    {
     "data": {
      "image/png": "[encoded data removed]",
      "text/plain": [
       "<Figure size 432x288 with 1 Axes>"
      ]
     },
     "metadata": {
      "needs_background": "light"
     },
     "output_type": "display_data"
    }
   ],
   "source": [
    "x_ar1 = np.random.randint(1,20)\n",
    "y_ar1 = np.random.randint(20)\n",
    "\n",
    "plt.scatter(df.Age,df.Salary)"
   ]
  },
  {
   "cell_type": "code",
   "execution_count": 60,
   "metadata": {},
   "outputs": [
    {
     "data": {
      "text/plain": [
       "array([0.18729392, 0.09535681, 0.4012103 , 0.21311081, 0.92846129])"
      ]
     },
     "execution_count": 60,
     "metadata": {},
     "output_type": "execute_result"
    }
   ],
   "source": [
    "np.random.rand(5)"
   ]
  },
  {
   "cell_type": "code",
   "execution_count": 64,
   "metadata": {},
   "outputs": [],
   "source": [
    "ax=np.random.rand(5,10,10)"
   ]
  },
  {
   "cell_type": "code",
   "execution_count": 68,
   "metadata": {},
   "outputs": [],
   "source": [
    "ax=np.random.normal(3,1,10)"
   ]
  },
  {
   "cell_type": "code",
   "execution_count": 69,
   "metadata": {},
   "outputs": [
    {
     "data": {
      "text/plain": [
       "(array([2., 3., 0., 1., 0., 1., 0., 1., 1., 1.]),\n",
       " array([2.65965333, 2.90873101, 3.15780869, 3.40688637, 3.65596406,\n",
       "        3.90504174, 4.15411942, 4.4031971 , 4.65227478, 4.90135247,\n",
       "        5.15043015]),\n",
       " <BarContainer object of 10 artists>)"
      ]
     },
     "execution_count": 69,
     "metadata": {},
     "output_type": "execute_result"
    },
    {
     "data": {
      "image/png": "[encoded data removed]",
      "text/plain": [
       "<Figure size 432x288 with 1 Axes>"
      ]
     },
     "metadata": {
      "needs_background": "light"
     },
     "output_type": "display_data"
    }
   ],
   "source": [
    "plt.hist(ax)"
   ]
  },
  {
   "cell_type": "code",
   "execution_count": null,
   "metadata": {},
   "outputs": [],
   "source": []
  }
 ],
 "metadata": {
  "kernelspec": {
   "display_name": "Python 3",
   "language": "python",
   "name": "python3"
  },
  "language_info": {
   "codemirror_mode": {
    "name": "ipython",
    "version": 3
   },
   "file_extension": ".py",
   "mimetype": "text/x-python",
   "name": "python",
   "nbconvert_exporter": "python",
   "pygments_lexer": "ipython3",
   "version": "3.8.5"
  }
 },
 "nbformat": 4,
 "nbformat_minor": 4
}
